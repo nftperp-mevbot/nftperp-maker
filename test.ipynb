{
 "cells": [
  {
   "cell_type": "code",
   "execution_count": 1,
   "metadata": {},
   "outputs": [],
   "source": [
    "import requests\n",
    "import json\n",
    "import pandas as pd"
   ]
  },
  {
   "cell_type": "code",
   "execution_count": 2,
   "metadata": {},
   "outputs": [],
   "source": [
    "res = requests.get('https://api.nftperp.xyz/orderbook?amm=bayc')"
   ]
  },
  {
   "cell_type": "code",
   "execution_count": 6,
   "metadata": {},
   "outputs": [
    {
     "data": {
      "text/plain": [
       "{'amm': 'bayc',\n",
       " 'markPrice': 26.169534648292768,\n",
       " 'asks': 0.7833226755058447,\n",
       " 'bids': 1.9378918327150025,\n",
       " 'levels': [{'price': 26.97, 'size': 0.03411197626992955, 'side': 1},\n",
       "  {'price': 26.71, 'size': 0.08161737177087233, 'side': 1},\n",
       "  {'price': 26.45, 'size': 0.1962192816635161, 'side': 1},\n",
       "  {'price': 26.2, 'size': 0.4713740458015267, 'side': 1},\n",
       "  {'price': 25.86, 'size': 1.1361175560711523, 'side': 0},\n",
       "  {'price': 25.85, 'size': 0.4773694390715667, 'side': 0},\n",
       "  {'price': 25.59, 'size': 0.20242282141461507, 'side': 0},\n",
       "  {'price': 25.33, 'size': 0.08566916699565733, 'side': 0},\n",
       "  {'price': 25.06, 'size': 0.036312849162011177, 'side': 0}]}"
      ]
     },
     "execution_count": 6,
     "metadata": {},
     "output_type": "execute_result"
    }
   ],
   "source": [
    "json.loads(res.text)['data']"
   ]
  },
  {
   "cell_type": "code",
   "execution_count": null,
   "metadata": {},
   "outputs": [],
   "source": []
  }
 ],
 "metadata": {
  "kernelspec": {
   "display_name": "Python 3",
   "language": "python",
   "name": "python3"
  },
  "language_info": {
   "codemirror_mode": {
    "name": "ipython",
    "version": 3
   },
   "file_extension": ".py",
   "mimetype": "text/x-python",
   "name": "python",
   "nbconvert_exporter": "python",
   "pygments_lexer": "ipython3",
   "version": "3.10.8"
  },
  "orig_nbformat": 4
 },
 "nbformat": 4,
 "nbformat_minor": 2
}
